{
  "cells": [
    {
      "cell_type": "markdown",
      "metadata": {
        "id": "view-in-github",
        "colab_type": "text"
      },
      "source": [
        "<a href=\"https://colab.research.google.com/github/AmirMasoudes/SpamFiltering-/blob/main/spamfiltering.ipynb\" target=\"_parent\"><img src=\"https://colab.research.google.com/assets/colab-badge.svg\" alt=\"Open In Colab\"/></a>"
      ]
    },
    {
      "cell_type": "code",
      "execution_count": null,
      "metadata": {
        "colab": {
          "background_save": true,
          "base_uri": "https://localhost:8080/",
          "height": 443
        },
        "id": "Wn9oPYwaPE3W",
        "outputId": "a1258a74-dbff-4b7c-e9a4-512587a4c74c"
      },
      "outputs": [
        {
          "name": "stderr",
          "output_type": "stream",
          "text": [
            "[nltk_data] Downloading package stopwords to /root/nltk_data...\n",
            "[nltk_data]   Unzipping corpora/stopwords.zip.\n"
          ]
        },
        {
          "name": "stdout",
          "output_type": "stream",
          "text": [
            "Accuracy: 0.979372197309417\n",
            "              precision    recall  f1-score   support\n",
            "\n",
            "           0       0.98      1.00      0.99       966\n",
            "           1       0.99      0.85      0.92       149\n",
            "\n",
            "    accuracy                           0.98      1115\n",
            "   macro avg       0.98      0.93      0.95      1115\n",
            "weighted avg       0.98      0.98      0.98      1115\n",
            "\n",
            "[1 0]\n"
          ]
        }
      ],
      "source": [
        "import pandas as pd\n",
        "from sklearn.model_selection import train_test_split\n",
        "from sklearn.feature_extraction.text import TfidfVectorizer\n",
        "from sklearn.naive_bayes import MultinomialNB\n",
        "from sklearn.metrics import classification_report, accuracy_score\n",
        "import nltk\n",
        "from nltk.corpus import stopwords\n",
        "import re\n",
        "import requests\n",
        "import tarfile\n",
        "import io\n",
        "import os\n",
        "\n",
        "# بارگیری دیتاست Enron Email\n",
        "def load_enron_dataset():\n",
        "    url = 'https://www.cs.cmu.edu/~enron/enron1.tar.gz'\n",
        "    response = requests.get(url)\n",
        "    tar = tarfile.open(fileobj=io.BytesIO(response.content), mode=\"r:gz\")\n",
        "    tar.extractall()\n",
        "\n",
        "    emails = []\n",
        "    labels = []\n",
        "\n",
        "    def read_emails_from_folder(folder, label):\n",
        "        for email_file in os.listdir(folder):\n",
        "            with open(os.path.join(folder, email_file), 'r', encoding='latin-1') as file:\n",
        "                emails.append(file.read())\n",
        "                labels.append(label)\n",
        "\n",
        "    read_emails_from_folder('enron1/spam', 1)\n",
        "    read_emails_from_folder('enron1/ham', 0)\n",
        "\n",
        "    df = pd.DataFrame({'message': emails, 'label': labels})\n",
        "    return df\n",
        "\n",
        "df = load_enron_dataset()\n",
        "\n",
        "# استفاده از نمونه کوچکتر برای سرعت بیشتر\n",
        "df = df.sample(n=2000, random_state=42)\n",
        "\n",
        "# پیش‌پردازش داده‌ها\n",
        "nltk.download('stopwords')\n",
        "stop_words = set(stopwords.words('english'))\n",
        "\n",
        "def preprocess_text(text):\n",
        "    text = re.sub(r'\\W', ' ', text)\n",
        "    text = text.lower()\n",
        "    text = ' '.join([word for word in text.split() if word not in stop_words])\n",
        "    return text\n",
        "\n",
        "df['message'] = df['message'].apply(preprocess_text)\n",
        "\n",
        "# تقسیم داده‌ها به مجموعه آموزش و تست\n",
        "X_train, X_test, y_train, y_test = train_test_split(df['message'], df['label'], test_size=0.2, random_state=42)\n",
        "\n",
        "# تبدیل متن به ویژگی‌ها\n",
        "vectorizer = TfidfVectorizer(max_features=5000)\n",
        "X_train = vectorizer.fit_transform(X_train)\n",
        "X_test = vectorizer.transform(X_test)\n",
        "\n",
        "# ایجاد و آموزش مدل Naive Bayes\n",
        "model = MultinomialNB()\n",
        "model.fit(X_train, y_train)\n",
        "\n",
        "# ارزیابی مدل\n",
        "y_pred = model.predict(X_test)\n",
        "print(f'Accuracy: {accuracy_score(y_test, y_pred)}')\n",
        "print(classification_report(y_test, y_pred))\n",
        "\n",
        "# پیش‌بینی پیام‌های جدید\n",
        "new_messages = [\"Free entry in 2 a wkly comp to win FA Cup fina...\", \"Hey, how are you doing?\"]\n",
        "new_messages_preprocessed = [preprocess_text(message) for message in new_messages]\n",
        "new_messages_vectorized = vectorizer.transform(new_messages_preprocessed)\n",
        "predictions = model.predict(new_messages_vectorized)\n",
        "print(predictions)\n",
        "\n"
      ]
    }
  ],
  "metadata": {
    "colab": {
      "provenance": [],
      "authorship_tag": "ABX9TyPRlFQCROVcSnHbWl5pCutI",
      "include_colab_link": true
    },
    "kernelspec": {
      "display_name": "Python 3",
      "name": "python3"
    },
    "language_info": {
      "name": "python"
    }
  },
  "nbformat": 4,
  "nbformat_minor": 0
}